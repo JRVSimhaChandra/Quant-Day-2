{
 "cells": [
  {
   "cell_type": "markdown",
   "id": "2acf149a-e647-4617-9b21-5cc6ac44e6bc",
   "metadata": {},
   "source": [
    "## Calendar Class"
   ]
  },
  {
   "cell_type": "code",
   "execution_count": 11,
   "id": "f675f3ca-d7b6-4739-9d9a-a68ef264800c",
   "metadata": {},
   "outputs": [
    {
     "name": "stdout",
     "output_type": "stream",
     "text": [
      "Defaulting to user installation because normal site-packages is not writeable\n",
      "Add 60 days: May 30th, 2015\n",
      "Add 60 business days in US: June 24th, 2015\n",
      "Add 60 business days in Italy: June 26th, 2015\n"
     ]
    },
    {
     "name": "stderr",
     "output_type": "stream",
     "text": [
      "ERROR: Invalid requirement: '#'\n"
     ]
    }
   ],
   "source": [
    "!pip install QuantLib-Python --upgrade # Make sure you have the latest version of QuantLib\n",
    "from QuantLib import Date, UnitedStates, Italy, Period, Days, JointCalendar\n",
    "\n",
    "# Create a date\n",
    "date = Date(31, 3, 2015)\n",
    "\n",
    "# Initialize the UnitedStates calendar with a specific market\n",
    "us_calendar = UnitedStates(UnitedStates.GovernmentBond) # Use the correct enum\n",
    "\n",
    "# Initialize the Italy calendar\n",
    "italy_calendar = Italy()\n",
    "\n",
    "# Create a period\n",
    "period = Period(60, Days)\n",
    "\n",
    "\n",
    "date = Date(31, 3, 2015)\n",
    "us_calendar = UnitedStates(UnitedStates.Settlement) # You can also use Settlement as the market\n",
    "italy_calendar = Italy()\n",
    "\n",
    "period = Period(60, Days)\n",
    "raw_date = date + period\n",
    "us_date = us_calendar.advance(date, period)\n",
    "italy_date = italy_calendar.advance(date, period)\n",
    "\n",
    "print(\"Add 60 days: {0}\".format(raw_date))\n",
    "print(\"Add 60 business days in US: {0}\".format(us_date))\n",
    "print(\"Add 60 business days in Italy: {0}\".format(italy_date))"
   ]
  },
  {
   "cell_type": "raw",
   "id": "a9959c7f-76cc-4843-83d8-0a02781eb0e8",
   "metadata": {},
   "source": [
    " # The addHoliday and removeHoliday methods in the calendar can be used to add and remove\n",
    "holidays to the calendar respectively. If a calendar has any missing holidays or has a wrong holiday,\n",
    "then these methods come handy in fixing the errors. The businessDaysBetween method helps find\n",
    "out the number of business days between two dates per a given calendar. Let us use this method on\n",
    "the us_calendar and italy_calendar as a sanity check."
   ]
  },
  {
   "cell_type": "code",
   "execution_count": 9,
   "id": "bd5989f9-182e-484d-bd4b-54ed0eae328c",
   "metadata": {},
   "outputs": [
    {
     "name": "stdout",
     "output_type": "stream",
     "text": [
      "Business days US: 60\n",
      "Business days Italy: 60\n"
     ]
    }
   ],
   "source": [
    "us_busdays = us_calendar.businessDaysBetween(date, us_date)\n",
    "italy_busdays = italy_calendar.businessDaysBetween(date, italy_date)\n",
    "\n",
    "print(\"Business days US: {0}\".format(us_busdays))\n",
    "print(\"Business days Italy: {0}\".format(italy_busdays))"
   ]
  },
  {
   "cell_type": "raw",
   "id": "4410013d-0f4a-4aa4-bde3-876305d281d1",
   "metadata": {},
   "source": [
    " # In valuation of certain deals, more than one calendar’s holidays are observed. QuantLib has\n",
    "JointCalendar class that allows you to combine the holidays of two or more calendars. Let us\n",
    "take a look at a working example.\n"
   ]
  },
  {
   "cell_type": "code",
   "execution_count": 12,
   "id": "c888bedc-d1c8-41c9-9311-b61cfe4822b1",
   "metadata": {},
   "outputs": [
    {
     "name": "stdout",
     "output_type": "stream",
     "text": [
      "Add 60 business days in Italy: June 29th, 2015\n",
      "Business days US-Italy: 60\n"
     ]
    }
   ],
   "source": [
    "joint_calendar = JointCalendar(us_calendar, italy_calendar)\n",
    "\n",
    "joint_date = joint_calendar.advance(date, period)\n",
    "joint_busdays = joint_calendar.businessDaysBetween(date, joint_date)\n",
    "\n",
    "print(\"Add 60 business days in Italy: {0}\".format(joint_date))\n",
    "print(\"Business days US-Italy: {0}\".format(joint_busdays))"
   ]
  },
  {
   "cell_type": "markdown",
   "id": "22367c18-9369-4c5a-a12e-3187247b7604",
   "metadata": {},
   "source": [
    "## Schedule Class"
   ]
  },
  {
   "cell_type": "code",
   "execution_count": null,
   "id": "6e718f4d-0ab4-42d2-8a62-864e8db9f10f",
   "metadata": {},
   "outputs": [],
   "source": []
  }
 ],
 "metadata": {
  "kernelspec": {
   "display_name": "Python 3 (ipykernel)",
   "language": "python",
   "name": "python3"
  },
  "language_info": {
   "codemirror_mode": {
    "name": "ipython",
    "version": 3
   },
   "file_extension": ".py",
   "mimetype": "text/x-python",
   "name": "python",
   "nbconvert_exporter": "python",
   "pygments_lexer": "ipython3",
   "version": "3.12.4"
  }
 },
 "nbformat": 4,
 "nbformat_minor": 5
}
